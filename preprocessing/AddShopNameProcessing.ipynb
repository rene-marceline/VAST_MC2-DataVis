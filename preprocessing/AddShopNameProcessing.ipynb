{
  "nbformat": 4,
  "nbformat_minor": 0,
  "metadata": {
    "colab": {
      "provenance": []
    },
    "kernelspec": {
      "name": "python3",
      "display_name": "Python 3"
    },
    "language_info": {
      "name": "python"
    }
  },
  "cells": [
    {
      "cell_type": "code",
      "execution_count": 14,
      "metadata": {
        "id": "U3j1ant-RCKb"
      },
      "outputs": [],
      "source": [
        "import pandas as pd\n",
        "import numpy as np\n",
        "import matplotlib.pyplot as plt\n",
        "import sklearn"
      ]
    },
    {
      "cell_type": "code",
      "source": [
        "shop_df = pd.read_csv(\"shoplocation_v4.csv\", encoding='mac_roman')\n",
        "car_df = pd.read_csv(\"merged_stoppoints.csv\", encoding='mac_roman')"
      ],
      "metadata": {
        "id": "ZVcg4YUzRGEl"
      },
      "execution_count": 15,
      "outputs": []
    },
    {
      "cell_type": "code",
      "source": [
        "def distance(x1, y1, x2, y2):\n",
        "    return ((x2 - x1)**2 + (y2 - y1)**2)**0.5\n",
        "\n",
        "def selectMinDist(locations,clat_center,clong_center):\n",
        "    if len(locations) >= 2 :\n",
        "        dist = np.zeros(len(locations))\n",
        "        for i, location in enumerate(locations):\n",
        "            # filter the rows where shopname is location\n",
        "            filtered_df = shop_df.loc[shop_df['shopname'] == location]\n",
        "            # get the lat_center and long_center values for the filtered rows\n",
        "            slat_center = filtered_df['lat_center'].iloc[0]\n",
        "            slong_center = filtered_df['long_center'].iloc[0]\n",
        "            dist[i] = distance(slat_center,slong_center,clat_center,clong_center)\n",
        "        min_index = np.argmin(dist)\n",
        "        return locations[min_index]"
      ],
      "metadata": {
        "id": "KFP17mwDdmC8"
      },
      "execution_count": 16,
      "outputs": []
    },
    {
      "cell_type": "code",
      "source": [
        "# define a function to get the shop names within the range of a car\n",
        "alpha = -1.9278469879507876e-18\n",
        "alpha = 0\n",
        "def get_shops_within_range(row):\n",
        "    # get the longitude and latitude center of the car\n",
        "    clong_center = row['long_center']\n",
        "    clat_center = row['lat_center']\n",
        "    \n",
        "    # filter shop_df to get the shops within the latitude and longitude range of the car\n",
        "    mask = (shop_df['lat2']-alpha < clat_center) & (shop_df['lat1']+alpha > clat_center) & (shop_df['long1']-alpha < clong_center) & (shop_df['long2']+alpha > clong_center)\n",
        "    shops_within_range = shop_df.loc[mask, 'shopname'].tolist()\n",
        "    if len(shops_within_range) >= 2:\n",
        "        shops_within_range = selectMinDist(shops_within_range,clat_center,clong_center)\n",
        "    return shops_within_range\n",
        "\n",
        "# apply the function to car_df and add the result to a new column named 'shop'\n",
        "car_df['location'] = car_df.apply(get_shops_within_range, axis=1)\n",
        "car_df['location'] = car_df['location'].apply(lambda x: ','.join(x) if isinstance(x, list) else x)\n",
        "\n",
        "# # print the updated car_df\n",
        "car_df.to_csv(\"merged_stoppoints_shop.csv\", index=False)\n",
        "car_df"
      ],
      "metadata": {
        "id": "qCTF4D-tabEJ"
      },
      "execution_count": null,
      "outputs": []
    }
  ]
}